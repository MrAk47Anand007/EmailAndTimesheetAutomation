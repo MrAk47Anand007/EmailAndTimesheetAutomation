{
 "cells": [
  {
   "cell_type": "code",
   "id": "initial_id",
   "metadata": {
    "collapsed": true,
    "ExecuteTime": {
     "end_time": "2024-11-15T06:47:21.381650Z",
     "start_time": "2024-11-15T06:47:18.736939Z"
    }
   },
   "source": [
    "import chromadb\n",
    "\n",
    "# Initialize ChromaDB client and collection\n",
    "client = chromadb.PersistentClient()\n",
    "collection = client.get_collection(\"status_updates\")\n",
    "\n",
    "# Retrieve all data\n",
    "data = collection.get()  # Get all documents, IDs, and metadata\n",
    "documents = data['documents']  # Text data\n",
    "metadatas = data['metadatas']  # Metadata"
   ],
   "outputs": [],
   "execution_count": 1
  },
  {
   "metadata": {
    "ExecuteTime": {
     "end_time": "2024-11-15T06:47:42.262650Z",
     "start_time": "2024-11-15T06:47:42.215850Z"
    }
   },
   "cell_type": "code",
   "source": [
    "training_data = []\n",
    "for doc, meta in zip(documents, metadatas):\n",
    "    task_name = meta.get(\"task_name\")\n",
    "    description = meta.get(\"description\")\n",
    "    time_spent = meta.get(\"time_spent\", \"N/A\")\n",
    "\n",
    "    instruction = f\"Describe the task '{task_name}'.\"\n",
    "    response = f\"{description}. Time spent: {time_spent} hours.\"\n",
    "\n",
    "    training_data.append({\"instruction\": instruction, \"response\": response})\n"
   ],
   "id": "507916110d187668",
   "outputs": [],
   "execution_count": 2
  },
  {
   "metadata": {
    "ExecuteTime": {
     "end_time": "2024-11-15T06:48:00.991392Z",
     "start_time": "2024-11-15T06:47:58.250622Z"
    }
   },
   "cell_type": "code",
   "source": [
    "from datasets import Dataset\n",
    "\n",
    "# Prepare the dataset\n",
    "dataset = Dataset.from_dict({\n",
    "    \"instruction\": [item[\"instruction\"] for item in training_data],\n",
    "    \"response\": [item[\"response\"] for item in training_data],\n",
    "})\n"
   ],
   "id": "aa2af204a9cecb10",
   "outputs": [
    {
     "name": "stderr",
     "output_type": "stream",
     "text": [
      "C:\\Users\\Admin\\PycharmProjects\\EmailAndTimesheetAutomation\\.venv\\lib\\site-packages\\tqdm\\auto.py:21: TqdmWarning: IProgress not found. Please update jupyter and ipywidgets. See https://ipywidgets.readthedocs.io/en/stable/user_install.html\n",
      "  from .autonotebook import tqdm as notebook_tqdm\n"
     ]
    }
   ],
   "execution_count": 3
  },
  {
   "metadata": {
    "ExecuteTime": {
     "end_time": "2024-11-15T06:55:30.540291Z",
     "start_time": "2024-11-15T06:48:17.575820Z"
    }
   },
   "cell_type": "code",
   "source": [
    "from transformers import AutoTokenizer, AutoModelForCausalLM\n",
    "\n",
    "tokenizer = AutoTokenizer.from_pretrained(\"mistralai/Mistral-7B-Instruct-v0.3\")\n",
    "model = AutoModelForCausalLM.from_pretrained(\"mistralai/Mistral-7B-Instruct-v0.3\")"
   ],
   "id": "defefdf5bb9c88c8",
   "outputs": [
    {
     "name": "stderr",
     "output_type": "stream",
     "text": [
      "Downloading shards:   0%|          | 0/3 [06:56<?, ?it/s]\n",
      "\n",
      "KeyboardInterrupt\n",
      "\n"
     ]
    }
   ],
   "execution_count": 4
  }
 ],
 "metadata": {
  "kernelspec": {
   "display_name": "Python 3",
   "language": "python",
   "name": "python3"
  },
  "language_info": {
   "codemirror_mode": {
    "name": "ipython",
    "version": 2
   },
   "file_extension": ".py",
   "mimetype": "text/x-python",
   "name": "python",
   "nbconvert_exporter": "python",
   "pygments_lexer": "ipython2",
   "version": "2.7.6"
  }
 },
 "nbformat": 4,
 "nbformat_minor": 5
}
